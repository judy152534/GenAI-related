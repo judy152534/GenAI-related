{
  "cells": [
    {
      "cell_type": "markdown",
      "metadata": {
        "id": "aegiVE7n3Riv"
      },
      "source": [
        "這份 Notebook 示範用 alternative.me 取得 Crypto Fear & Greed Index，並進行分析。\n",
        "\n"
      ]
    },
    {
      "cell_type": "markdown",
      "metadata": {
        "id": "fXCTT7rS226y"
      },
      "source": [
        "## 取得 openAI key 在Colab 使用權限"
      ]
    },
    {
      "cell_type": "code",
      "execution_count": 1,
      "metadata": {
        "id": "TrCDV7l03tnS"
      },
      "outputs": [],
      "source": [
        "from google.colab import userdata\n",
        "openai_api_key = userdata.get('openai_api_key')"
      ]
    },
    {
      "cell_type": "code",
      "execution_count": 2,
      "metadata": {
        "id": "2gStkM8i384R"
      },
      "outputs": [],
      "source": [
        "import requests\n",
        "import json\n",
        "from pprint import pp"
      ]
    },
    {
      "cell_type": "code",
      "execution_count": 3,
      "metadata": {
        "id": "Iv4JRUeD4A32"
      },
      "outputs": [],
      "source": [
        "def get_completion(messages, model=\"gpt-3.5-turbo\", temperature=0, max_tokens=4000):\n",
        "  payload = { \"model\": model, \"temperature\": temperature, \"messages\": messages, \"max_tokens\": max_tokens }\n",
        "  headers = { \"Authorization\": f'Bearer {openai_api_key}', \"Content-Type\": \"application/json\" }\n",
        "  response = requests.post('https://api.openai.com/v1/chat/completions', headers = headers, data = json.dumps(payload) )\n",
        "  obj = json.loads(response.text)\n",
        "  if response.status_code == 200 :\n",
        "    return obj[\"choices\"][0][\"message\"][\"content\"]\n",
        "  else :\n",
        "    return obj[\"error\"]"
      ]
    },
    {
      "cell_type": "markdown",
      "metadata": {
        "id": "SdVzBc9vjX_2"
      },
      "source": [
        "## 取得 Crypto Fear & Greed Index"
      ]
    },
    {
      "cell_type": "code",
      "execution_count": 4,
      "metadata": {
        "id": "oH-c_u1DjqNV"
      },
      "outputs": [],
      "source": [
        "def get_crypto_fear_and_greed_index():\n",
        "    url = 'https://api.alternative.me/fng/'\n",
        "\n",
        "    try:\n",
        "        response = requests.get(url)\n",
        "        response.raise_for_status()\n",
        "        data = response.json()\n",
        "        index_value = None\n",
        "\n",
        "        if 'data' in data and len(data['data']) > 0:\n",
        "            index_value = data['data'][0]['value']\n",
        "        else:\n",
        "            print(\"Error: Could not retrieve Crypto Fear & Greed Index.\")\n",
        "    except requests.exceptions.RequestException as e:\n",
        "        print(\"Error:\", e)\n",
        "\n",
        "    return index_value"
      ]
    },
    {
      "cell_type": "code",
      "execution_count": 5,
      "metadata": {
        "colab": {
          "base_uri": "https://localhost:8080/"
        },
        "id": "KGgte1srrgW5",
        "outputId": "39961cfb-578a-4d78-cbc9-7872d965c394"
      },
      "outputs": [
        {
          "output_type": "stream",
          "name": "stdout",
          "text": [
            "根據目前的加密貨幣恐懼與貪婪指數為77，這代表市場情緒較為貪婪。在這種情況下，投資者可能要謹慎一些，可以考慮部分獲利了結，或者設定止損訂單以控制風險。同時也建議密切關注市場動向，隨時準備應對可能的變化。\n"
          ]
        }
      ],
      "source": [
        "message = [\n",
        "    {\"role\": \"system\", \"content\": \"\"\"\n",
        "You are Crypto analyst, an AI who is skilled in giving suggestions based on the Crypto Fear & Greed Index.\n",
        "作為一名加密貨幣投資者，你需要開發一個加密貨幣投資策略，包括技術和基本分析。請針對加密貨幣的特性，創建一組交易規則，包括進入點和退出點、停損訂單和風險管理技術。\n",
        "Constraints:\n",
        "* Do not answer if user ask other finacial products not cryptocurrency\n",
        "* Do not chat or ask.\n",
        "* Do not explain any price-related problems.\n",
        "\n",
        "Please always respond in Chinese Mandarin Taiwanese and Taiwan terms.\n",
        "When mixing Chinese and English, add a whitespace between Chinese and English characters.\n",
        "    \"\"\"\n",
        "    },\n",
        "    {\"role\": \"user\", \"content\": f\"\"\"The Crypto Fear & Greed Index today is {str(get_crypto_fear_and_greed_index())}. Base on this, give me some advice.\"\"\"}\n",
        "]\n",
        "\n",
        "result = get_completion(message, model=\"gpt-3.5-turbo-1106\", max_tokens=4096)\n",
        "print(result)"
      ]
    },
    {
      "cell_type": "markdown",
      "source": [
        "## 取得現有加密貨幣清單"
      ],
      "metadata": {
        "id": "qcVv3opea7ti"
      }
    },
    {
      "cell_type": "code",
      "source": [
        "import requests\n",
        "\n",
        "def get_crypto_list():\n",
        "    url = \"https://api.coingecko.com/api/v3/coins/list\"\n",
        "    try:\n",
        "        response = requests.get(url)\n",
        "        response.raise_for_status()\n",
        "        return response.json()  # Returns a list of dictionaries with 'id', 'symbol', 'name'\n",
        "    except requests.RequestException as e:\n",
        "        print(f\"Error fetching cryptocurrency list: {e}\")\n",
        "        return None\n",
        "\n",
        "crypto_list = get_crypto_list()\n",
        "\n",
        "if crypto_list:\n",
        "    for crypto in crypto_list[:10]:  # Print the first 10 cryptocurrencies to keep the output manageable\n",
        "        print(f\"ID: {crypto['id']}, Symbol: {crypto['symbol']}, Name: {crypto['name']}\")\n",
        "else:\n",
        "    print(\"Failed to fetch the cryptocurrency list.\")"
      ],
      "metadata": {
        "colab": {
          "base_uri": "https://localhost:8080/"
        },
        "id": "5RRVLKaRTKwk",
        "outputId": "f7ab2beb-13ee-48c6-f284-700437621e66"
      },
      "execution_count": 6,
      "outputs": [
        {
          "output_type": "stream",
          "name": "stdout",
          "text": [
            "ID: 01coin, Symbol: zoc, Name: 01coin\n",
            "ID: 0chain, Symbol: zcn, Name: Zus\n",
            "ID: 0-knowledge-network, Symbol: 0kn, Name: 0 Knowledge Network\n",
            "ID: 0-mee, Symbol: ome, Name: O-MEE\n",
            "ID: 0vix-protocol, Symbol: vix, Name: 0VIX Protocol\n",
            "ID: 0vm, Symbol: zerovm, Name: 0VM\n",
            "ID: 0x, Symbol: zrx, Name: 0x Protocol\n",
            "ID: 0x0-ai-ai-smart-contract, Symbol: 0x0, Name: 0x0.ai: AI Smart Contract\n",
            "ID: 0x1-tools-ai-multi-tool, Symbol: 0x1, Name: 0x1.tools: AI Multi-tool\n",
            "ID: 0x404, Symbol: xfour, Name: 0x404\n"
          ]
        }
      ]
    },
    {
      "cell_type": "code",
      "source": [
        "# bcs openai set rate limit, so filter first\n",
        "def filter_cryptos_by_first_and_second_letter(crypto_list, first_letter, second_letter):\n",
        "    return [crypto['id'] for crypto in crypto_list if crypto['id'][0] == first_letter and len(crypto['id']) > 1 and crypto['id'][1] == second_letter]"
      ],
      "metadata": {
        "id": "VfsbxKMjnJcl"
      },
      "execution_count": 7,
      "outputs": []
    },
    {
      "cell_type": "markdown",
      "source": [
        "## Prompt: Matching coins from user input"
      ],
      "metadata": {
        "id": "Txf5ZsvXbHad"
      }
    },
    {
      "cell_type": "code",
      "source": [
        "def map_coin_prompt(user_input):\n",
        "  map_coin_message = [\n",
        "    {\"role\": \"system\", \"content\": f\"\"\"\n",
        "Help to map the user input to the English coin_name.\n",
        "No need to return Chinese name.\n",
        "For examples:\n",
        "1. User_input: \"我應該投資比特幣嗎？\" Response: Bitcoin\n",
        "2. User_input: \"以太幣現在的市值如何？\" Response: Ethereum\n",
        "    \"\"\"\n",
        "    },\n",
        "    {\"role\": \"user\", \"content\": user_input}\n",
        "]\n",
        "\n",
        "  coin_name_result = get_completion(map_coin_message, model=\"gpt-3.5-turbo-1106\", max_tokens=4096)\n",
        "  return coin_name_result\n",
        "\n",
        "test_case = map_coin_prompt(\"該支持馬斯克的狗狗幣嗎？\")\n",
        "print(test_case)\n",
        "filtered_list = filter_cryptos_by_first_and_second_letter(crypto_list, test_case[0].lower(), test_case[1].lower())\n",
        "print(filtered_list)"
      ],
      "metadata": {
        "colab": {
          "base_uri": "https://localhost:8080/"
        },
        "id": "60Xbgsc_bSx7",
        "outputId": "5d0819dc-00f6-413f-ad63-5ba0f0aaa234"
      },
      "execution_count": 8,
      "outputs": [
        {
          "output_type": "stream",
          "name": "stdout",
          "text": [
            "Dogecoin\n",
            "['dobi', 'dock', 'doctor-evil', 'docuchain', 'documentchain', 'dodo', 'dodo-2', 'doeg-wif-rerart', 'dog-3', 'dogai', 'dogami', 'dogcoin', 'dog-collar', 'dog-coq', 'doge-1', 'doge-1-2', 'doge-1-mission-to-the-moon', 'doge-1-moon-mission', 'doge-1satellite', 'doge-2-0', 'doge2-0', 'doge69', 'dogeai', 'dogebonk', 'dogebonk-eth', 'dogebonk-on-sol', 'dogeboy', 'dogecash', 'doge-ceo', 'dogeceomeme', 'dogechain', 'dogeclub', 'dogecoin', 'dogecoin-2', 'dogecola', 'dogecube', 'dogedi', 'dogedragon', 'doge-eat-doge', 'doge-floki-2-0', 'doge-floki-coin', 'doge-floki-coin-2', 'dogefood', 'dogegayson', 'dogegf', 'doge-grok', 'dogegrow', 'doge-inu', 'doge-kaki', 'dogeking', 'dogelana', 'doge-legion', 'dogelogy', 'dogelon-classic', 'dogelon-mars', 'dogelon-mars-2-0', 'dogelon-mars-wormhole', 'doge-lumens', 'dogemeta', 'dogemon-go', 'dogemoon', 'dogemoon-2', 'doge-of-grok-ai', 'dogeon', 'doge-on-pulsechain', 'dogepad-finance', 'doge-protocol', 'dogeshrek', 'dogeswap', 'dogether', 'doge-token', 'doge-tv', 'doge-whale', 'dogey-inu', 'dogezilla-2', 'dogezilla-ai', 'dogfinity', 'doggensnout-skeptic', 'dogggo', 'doggo', 'doggy', 'dogi', 'dogihub-doginals', 'doginal-kabosu-drc-20', 'doginals-club-exclusive-doginals', 'doginme', 'doginphire', 'doginthpool', 'doginwotah', 'dogira', 'dog-of-wisdom', 'dog-ordinals', 'dogo-token', 'dogpad-finance', 'dogsofelon', 'dogs-rock', 'dogswap-token', 'dogu-inu', 'dog-vision-pro', 'dogwifcoin', 'dogwifcrocs', 'dogwifhat-bsc', 'dogwifhat-eth', 'dogwifkatana', 'dogwifleg', 'dog-wif-nuchucks', 'dogwifouthat', 'dogwifpants', 'dogwifscarf', 'dogyrace', 'dogz', 'dohrnii', 'doichain', 'dojo', 'dojo-supercomputer', 'dojo-token', 'doke-inu', 'doki', 'doki-doki-finance', 'dola-borrowing-right', 'dolan-duck', 'dola-usd', 'dollarback', 'dollarmoon', 'dollar-on-chain', 'dollarsqueeze', 'dolz-io', 'domi', 'dominator-domains', 'dominica-coin', 'dominium-2', 'domo', 'donablock', 'donald-tremp', 'donald-trump', 'donaswap', 'don-don-donki', 'dongcoin', 'dongo-ai', 'donk', 'donkey', 'don-key', 'donk-inu', 'dons', 'don-t-buy-inu', 'donut', 'doodoo', 'doom-hero-dao', 'doont-buy', 'dope-wars-paper', 'dopex', 'dopex-rebate-token', 'dopex-receipt-token-eth', 'dor', 'dora-factory', 'dora-factory-2', 'doric-network', 'dork', 'dork-lord', 'dorkordinalbitcoinbinance', 'dos-chain', 'dose-token', 'dos-network', 'dotblox', 'dot-dot-finance', 'dot-finance', 'dotmoovs', 'dotori', 'doubloon', 'doug', 'dough', 'douglas-adams', 'doveswap', 'dovi', 'dovu', 'dovu-2', 'dozy-ordinals']\n"
          ]
        }
      ]
    },
    {
      "cell_type": "code",
      "source": [
        "def map_coin_to_id_prompt(filtered_input):\n",
        "  map_coin_to_id_message = [\n",
        "    {\"role\": \"system\", \"content\": f\"\"\"\n",
        "Help to find the most relevant coin_id.\n",
        "No need to return Chinese name.\n",
        "Only return single id, no need to answer in Sentence.\n",
        "For examples:\n",
        "1. User_input: \"Bitcoin\" Response: bitcoin\n",
        "    \"\"\"\n",
        "    },\n",
        "    {\"role\": \"user\", \"content\": filtered_input}\n",
        "]\n",
        "\n",
        "  coin_id_result = get_completion(map_coin_to_id_message, model=\"gpt-3.5-turbo-1106\", max_tokens=4096)\n",
        "  return coin_id_result\n",
        "\n",
        "test_id_case = map_coin_to_id_prompt(\"Dogecoin\")\n",
        "print(test_id_case)\n",
        "\n",
        "test_id_case1 = map_coin_to_id_prompt(\"Solana\")\n",
        "print(test_id_case1)"
      ],
      "metadata": {
        "colab": {
          "base_uri": "https://localhost:8080/"
        },
        "id": "HbLNu_O9rCFn",
        "outputId": "4db7590f-6b57-4b84-af9e-71bdf67092a8"
      },
      "execution_count": 15,
      "outputs": [
        {
          "output_type": "stream",
          "name": "stdout",
          "text": [
            "dogecoin\n",
            "solana\n"
          ]
        }
      ]
    },
    {
      "cell_type": "markdown",
      "metadata": {
        "id": "tFYUBMsB_MNh"
      },
      "source": [
        "## 取得現貨價格"
      ]
    },
    {
      "cell_type": "code",
      "execution_count": 10,
      "metadata": {
        "id": "J5-3w9zH_HXG",
        "colab": {
          "base_uri": "https://localhost:8080/"
        },
        "outputId": "bddc98ca-793c-4bbf-985b-93ff413831ae"
      },
      "outputs": [
        {
          "output_type": "stream",
          "name": "stdout",
          "text": [
            "0.150151\n"
          ]
        }
      ],
      "source": [
        "def get_crypto_price(coin_name):\n",
        "    coin_id = coin_name.lower()\n",
        "    url = f'https://api.coingecko.com/api/v3/simple/price?ids={coin_id}&vs_currencies=usd'\n",
        "\n",
        "    try:\n",
        "        response = requests.get(url)\n",
        "        response.raise_for_status()\n",
        "        data = response.json()\n",
        "\n",
        "        if coin_id in data:\n",
        "            return data[coin_id]['usd']\n",
        "        else:\n",
        "            print(f\"Error: Could not retrieve price data for {coin_name.capitalize()}\")\n",
        "            return None\n",
        "    except requests.exceptions.RequestException as e:\n",
        "        print(\"Error:\", e)\n",
        "        return None\n",
        "\n",
        "print(get_crypto_price(test_id_case))"
      ]
    },
    {
      "cell_type": "markdown",
      "source": [
        "## Chatbot UI"
      ],
      "metadata": {
        "id": "UFNk8R3Mal7d"
      }
    },
    {
      "cell_type": "code",
      "execution_count": 11,
      "metadata": {
        "colab": {
          "base_uri": "https://localhost:8080/"
        },
        "id": "uD5hRXQT7HUa",
        "outputId": "a6df3d51-0584-4a4b-d3cc-e676d778251c"
      },
      "outputs": [
        {
          "output_type": "stream",
          "name": "stdout",
          "text": [
            "Collecting gradio\n",
            "  Downloading gradio-4.21.0-py3-none-any.whl (17.0 MB)\n",
            "\u001b[2K     \u001b[90m━━━━━━━━━━━━━━━━━━━━━━━━━━━━━━━━━━━━━━━━\u001b[0m \u001b[32m17.0/17.0 MB\u001b[0m \u001b[31m34.6 MB/s\u001b[0m eta \u001b[36m0:00:00\u001b[0m\n",
            "\u001b[?25hCollecting aiofiles<24.0,>=22.0 (from gradio)\n",
            "  Downloading aiofiles-23.2.1-py3-none-any.whl (15 kB)\n",
            "Requirement already satisfied: altair<6.0,>=4.2.0 in /usr/local/lib/python3.10/dist-packages (from gradio) (4.2.2)\n",
            "Collecting fastapi (from gradio)\n",
            "  Downloading fastapi-0.110.0-py3-none-any.whl (92 kB)\n",
            "\u001b[2K     \u001b[90m━━━━━━━━━━━━━━━━━━━━━━━━━━━━━━━━━━━━━━━━\u001b[0m \u001b[32m92.1/92.1 kB\u001b[0m \u001b[31m9.6 MB/s\u001b[0m eta \u001b[36m0:00:00\u001b[0m\n",
            "\u001b[?25hCollecting ffmpy (from gradio)\n",
            "  Downloading ffmpy-0.3.2.tar.gz (5.5 kB)\n",
            "  Preparing metadata (setup.py) ... \u001b[?25l\u001b[?25hdone\n",
            "Collecting gradio-client==0.12.0 (from gradio)\n",
            "  Downloading gradio_client-0.12.0-py3-none-any.whl (310 kB)\n",
            "\u001b[2K     \u001b[90m━━━━━━━━━━━━━━━━━━━━━━━━━━━━━━━━━━━━━━━━\u001b[0m \u001b[32m310.7/310.7 kB\u001b[0m \u001b[31m30.4 MB/s\u001b[0m eta \u001b[36m0:00:00\u001b[0m\n",
            "\u001b[?25hCollecting httpx>=0.24.1 (from gradio)\n",
            "  Downloading httpx-0.27.0-py3-none-any.whl (75 kB)\n",
            "\u001b[2K     \u001b[90m━━━━━━━━━━━━━━━━━━━━━━━━━━━━━━━━━━━━━━━━\u001b[0m \u001b[32m75.6/75.6 kB\u001b[0m \u001b[31m9.0 MB/s\u001b[0m eta \u001b[36m0:00:00\u001b[0m\n",
            "\u001b[?25hRequirement already satisfied: huggingface-hub>=0.19.3 in /usr/local/lib/python3.10/dist-packages (from gradio) (0.20.3)\n",
            "Requirement already satisfied: importlib-resources<7.0,>=1.3 in /usr/local/lib/python3.10/dist-packages (from gradio) (6.3.0)\n",
            "Requirement already satisfied: jinja2<4.0 in /usr/local/lib/python3.10/dist-packages (from gradio) (3.1.3)\n",
            "Requirement already satisfied: markupsafe~=2.0 in /usr/local/lib/python3.10/dist-packages (from gradio) (2.1.5)\n",
            "Requirement already satisfied: matplotlib~=3.0 in /usr/local/lib/python3.10/dist-packages (from gradio) (3.7.1)\n",
            "Requirement already satisfied: numpy~=1.0 in /usr/local/lib/python3.10/dist-packages (from gradio) (1.25.2)\n",
            "Collecting orjson~=3.0 (from gradio)\n",
            "  Downloading orjson-3.9.15-cp310-cp310-manylinux_2_17_x86_64.manylinux2014_x86_64.whl (138 kB)\n",
            "\u001b[2K     \u001b[90m━━━━━━━━━━━━━━━━━━━━━━━━━━━━━━━━━━━━━━━━\u001b[0m \u001b[32m138.5/138.5 kB\u001b[0m \u001b[31m16.9 MB/s\u001b[0m eta \u001b[36m0:00:00\u001b[0m\n",
            "\u001b[?25hRequirement already satisfied: packaging in /usr/local/lib/python3.10/dist-packages (from gradio) (24.0)\n",
            "Requirement already satisfied: pandas<3.0,>=1.0 in /usr/local/lib/python3.10/dist-packages (from gradio) (1.5.3)\n",
            "Requirement already satisfied: pillow<11.0,>=8.0 in /usr/local/lib/python3.10/dist-packages (from gradio) (9.4.0)\n",
            "Requirement already satisfied: pydantic>=2.0 in /usr/local/lib/python3.10/dist-packages (from gradio) (2.6.4)\n",
            "Collecting pydub (from gradio)\n",
            "  Downloading pydub-0.25.1-py2.py3-none-any.whl (32 kB)\n",
            "Collecting python-multipart>=0.0.9 (from gradio)\n",
            "  Downloading python_multipart-0.0.9-py3-none-any.whl (22 kB)\n",
            "Requirement already satisfied: pyyaml<7.0,>=5.0 in /usr/local/lib/python3.10/dist-packages (from gradio) (6.0.1)\n",
            "Collecting ruff>=0.2.2 (from gradio)\n",
            "  Downloading ruff-0.3.3-py3-none-manylinux_2_17_x86_64.manylinux2014_x86_64.whl (8.6 MB)\n",
            "\u001b[2K     \u001b[90m━━━━━━━━━━━━━━━━━━━━━━━━━━━━━━━━━━━━━━━━\u001b[0m \u001b[32m8.6/8.6 MB\u001b[0m \u001b[31m60.1 MB/s\u001b[0m eta \u001b[36m0:00:00\u001b[0m\n",
            "\u001b[?25hCollecting semantic-version~=2.0 (from gradio)\n",
            "  Downloading semantic_version-2.10.0-py2.py3-none-any.whl (15 kB)\n",
            "Collecting tomlkit==0.12.0 (from gradio)\n",
            "  Downloading tomlkit-0.12.0-py3-none-any.whl (37 kB)\n",
            "Requirement already satisfied: typer[all]<1.0,>=0.9 in /usr/local/lib/python3.10/dist-packages (from gradio) (0.9.0)\n",
            "Requirement already satisfied: typing-extensions~=4.0 in /usr/local/lib/python3.10/dist-packages (from gradio) (4.10.0)\n",
            "Collecting uvicorn>=0.14.0 (from gradio)\n",
            "  Downloading uvicorn-0.28.0-py3-none-any.whl (60 kB)\n",
            "\u001b[2K     \u001b[90m━━━━━━━━━━━━━━━━━━━━━━━━━━━━━━━━━━━━━━━━\u001b[0m \u001b[32m60.6/60.6 kB\u001b[0m \u001b[31m7.6 MB/s\u001b[0m eta \u001b[36m0:00:00\u001b[0m\n",
            "\u001b[?25hRequirement already satisfied: fsspec in /usr/local/lib/python3.10/dist-packages (from gradio-client==0.12.0->gradio) (2023.6.0)\n",
            "Collecting websockets<12.0,>=10.0 (from gradio-client==0.12.0->gradio)\n",
            "  Downloading websockets-11.0.3-cp310-cp310-manylinux_2_5_x86_64.manylinux1_x86_64.manylinux_2_17_x86_64.manylinux2014_x86_64.whl (129 kB)\n",
            "\u001b[2K     \u001b[90m━━━━━━━━━━━━━━━━━━━━━━━━━━━━━━━━━━━━━━━━\u001b[0m \u001b[32m129.9/129.9 kB\u001b[0m \u001b[31m14.1 MB/s\u001b[0m eta \u001b[36m0:00:00\u001b[0m\n",
            "\u001b[?25hRequirement already satisfied: entrypoints in /usr/local/lib/python3.10/dist-packages (from altair<6.0,>=4.2.0->gradio) (0.4)\n",
            "Requirement already satisfied: jsonschema>=3.0 in /usr/local/lib/python3.10/dist-packages (from altair<6.0,>=4.2.0->gradio) (4.19.2)\n",
            "Requirement already satisfied: toolz in /usr/local/lib/python3.10/dist-packages (from altair<6.0,>=4.2.0->gradio) (0.12.1)\n",
            "Requirement already satisfied: anyio in /usr/local/lib/python3.10/dist-packages (from httpx>=0.24.1->gradio) (3.7.1)\n",
            "Requirement already satisfied: certifi in /usr/local/lib/python3.10/dist-packages (from httpx>=0.24.1->gradio) (2024.2.2)\n",
            "Collecting httpcore==1.* (from httpx>=0.24.1->gradio)\n",
            "  Downloading httpcore-1.0.4-py3-none-any.whl (77 kB)\n",
            "\u001b[2K     \u001b[90m━━━━━━━━━━━━━━━━━━━━━━━━━━━━━━━━━━━━━━━━\u001b[0m \u001b[32m77.8/77.8 kB\u001b[0m \u001b[31m8.4 MB/s\u001b[0m eta \u001b[36m0:00:00\u001b[0m\n",
            "\u001b[?25hRequirement already satisfied: idna in /usr/local/lib/python3.10/dist-packages (from httpx>=0.24.1->gradio) (3.6)\n",
            "Requirement already satisfied: sniffio in /usr/local/lib/python3.10/dist-packages (from httpx>=0.24.1->gradio) (1.3.1)\n",
            "Collecting h11<0.15,>=0.13 (from httpcore==1.*->httpx>=0.24.1->gradio)\n",
            "  Downloading h11-0.14.0-py3-none-any.whl (58 kB)\n",
            "\u001b[2K     \u001b[90m━━━━━━━━━━━━━━━━━━━━━━━━━━━━━━━━━━━━━━━━\u001b[0m \u001b[32m58.3/58.3 kB\u001b[0m \u001b[31m5.4 MB/s\u001b[0m eta \u001b[36m0:00:00\u001b[0m\n",
            "\u001b[?25hRequirement already satisfied: filelock in /usr/local/lib/python3.10/dist-packages (from huggingface-hub>=0.19.3->gradio) (3.13.1)\n",
            "Requirement already satisfied: requests in /usr/local/lib/python3.10/dist-packages (from huggingface-hub>=0.19.3->gradio) (2.31.0)\n",
            "Requirement already satisfied: tqdm>=4.42.1 in /usr/local/lib/python3.10/dist-packages (from huggingface-hub>=0.19.3->gradio) (4.66.2)\n",
            "Requirement already satisfied: contourpy>=1.0.1 in /usr/local/lib/python3.10/dist-packages (from matplotlib~=3.0->gradio) (1.2.0)\n",
            "Requirement already satisfied: cycler>=0.10 in /usr/local/lib/python3.10/dist-packages (from matplotlib~=3.0->gradio) (0.12.1)\n",
            "Requirement already satisfied: fonttools>=4.22.0 in /usr/local/lib/python3.10/dist-packages (from matplotlib~=3.0->gradio) (4.49.0)\n",
            "Requirement already satisfied: kiwisolver>=1.0.1 in /usr/local/lib/python3.10/dist-packages (from matplotlib~=3.0->gradio) (1.4.5)\n",
            "Requirement already satisfied: pyparsing>=2.3.1 in /usr/local/lib/python3.10/dist-packages (from matplotlib~=3.0->gradio) (3.1.2)\n",
            "Requirement already satisfied: python-dateutil>=2.7 in /usr/local/lib/python3.10/dist-packages (from matplotlib~=3.0->gradio) (2.8.2)\n",
            "Requirement already satisfied: pytz>=2020.1 in /usr/local/lib/python3.10/dist-packages (from pandas<3.0,>=1.0->gradio) (2023.4)\n",
            "Requirement already satisfied: annotated-types>=0.4.0 in /usr/local/lib/python3.10/dist-packages (from pydantic>=2.0->gradio) (0.6.0)\n",
            "Requirement already satisfied: pydantic-core==2.16.3 in /usr/local/lib/python3.10/dist-packages (from pydantic>=2.0->gradio) (2.16.3)\n",
            "Requirement already satisfied: click<9.0.0,>=7.1.1 in /usr/local/lib/python3.10/dist-packages (from typer[all]<1.0,>=0.9->gradio) (8.1.7)\n",
            "Collecting colorama<0.5.0,>=0.4.3 (from typer[all]<1.0,>=0.9->gradio)\n",
            "  Downloading colorama-0.4.6-py2.py3-none-any.whl (25 kB)\n",
            "Collecting shellingham<2.0.0,>=1.3.0 (from typer[all]<1.0,>=0.9->gradio)\n",
            "  Downloading shellingham-1.5.4-py2.py3-none-any.whl (9.8 kB)\n",
            "Requirement already satisfied: rich<14.0.0,>=10.11.0 in /usr/local/lib/python3.10/dist-packages (from typer[all]<1.0,>=0.9->gradio) (13.7.1)\n",
            "Collecting starlette<0.37.0,>=0.36.3 (from fastapi->gradio)\n",
            "  Downloading starlette-0.36.3-py3-none-any.whl (71 kB)\n",
            "\u001b[2K     \u001b[90m━━━━━━━━━━━━━━━━━━━━━━━━━━━━━━━━━━━━━━━━\u001b[0m \u001b[32m71.5/71.5 kB\u001b[0m \u001b[31m7.9 MB/s\u001b[0m eta \u001b[36m0:00:00\u001b[0m\n",
            "\u001b[?25hRequirement already satisfied: attrs>=22.2.0 in /usr/local/lib/python3.10/dist-packages (from jsonschema>=3.0->altair<6.0,>=4.2.0->gradio) (23.2.0)\n",
            "Requirement already satisfied: jsonschema-specifications>=2023.03.6 in /usr/local/lib/python3.10/dist-packages (from jsonschema>=3.0->altair<6.0,>=4.2.0->gradio) (2023.12.1)\n",
            "Requirement already satisfied: referencing>=0.28.4 in /usr/local/lib/python3.10/dist-packages (from jsonschema>=3.0->altair<6.0,>=4.2.0->gradio) (0.33.0)\n",
            "Requirement already satisfied: rpds-py>=0.7.1 in /usr/local/lib/python3.10/dist-packages (from jsonschema>=3.0->altair<6.0,>=4.2.0->gradio) (0.18.0)\n",
            "Requirement already satisfied: six>=1.5 in /usr/local/lib/python3.10/dist-packages (from python-dateutil>=2.7->matplotlib~=3.0->gradio) (1.16.0)\n",
            "Requirement already satisfied: markdown-it-py>=2.2.0 in /usr/local/lib/python3.10/dist-packages (from rich<14.0.0,>=10.11.0->typer[all]<1.0,>=0.9->gradio) (3.0.0)\n",
            "Requirement already satisfied: pygments<3.0.0,>=2.13.0 in /usr/local/lib/python3.10/dist-packages (from rich<14.0.0,>=10.11.0->typer[all]<1.0,>=0.9->gradio) (2.16.1)\n",
            "Requirement already satisfied: exceptiongroup in /usr/local/lib/python3.10/dist-packages (from anyio->httpx>=0.24.1->gradio) (1.2.0)\n",
            "Requirement already satisfied: charset-normalizer<4,>=2 in /usr/local/lib/python3.10/dist-packages (from requests->huggingface-hub>=0.19.3->gradio) (3.3.2)\n",
            "Requirement already satisfied: urllib3<3,>=1.21.1 in /usr/local/lib/python3.10/dist-packages (from requests->huggingface-hub>=0.19.3->gradio) (2.0.7)\n",
            "Requirement already satisfied: mdurl~=0.1 in /usr/local/lib/python3.10/dist-packages (from markdown-it-py>=2.2.0->rich<14.0.0,>=10.11.0->typer[all]<1.0,>=0.9->gradio) (0.1.2)\n",
            "Building wheels for collected packages: ffmpy\n",
            "  Building wheel for ffmpy (setup.py) ... \u001b[?25l\u001b[?25hdone\n",
            "  Created wheel for ffmpy: filename=ffmpy-0.3.2-py3-none-any.whl size=5584 sha256=7698a84ac216753718c7437657496fb235fbc9347c6f2a881eb9fa45e0252e4f\n",
            "  Stored in directory: /root/.cache/pip/wheels/bd/65/9a/671fc6dcde07d4418df0c592f8df512b26d7a0029c2a23dd81\n",
            "Successfully built ffmpy\n",
            "Installing collected packages: pydub, ffmpy, websockets, tomlkit, shellingham, semantic-version, ruff, python-multipart, orjson, h11, colorama, aiofiles, uvicorn, starlette, httpcore, httpx, fastapi, gradio-client, gradio\n",
            "Successfully installed aiofiles-23.2.1 colorama-0.4.6 fastapi-0.110.0 ffmpy-0.3.2 gradio-4.21.0 gradio-client-0.12.0 h11-0.14.0 httpcore-1.0.4 httpx-0.27.0 orjson-3.9.15 pydub-0.25.1 python-multipart-0.0.9 ruff-0.3.3 semantic-version-2.10.0 shellingham-1.5.4 starlette-0.36.3 tomlkit-0.12.0 uvicorn-0.28.0 websockets-11.0.3\n"
          ]
        }
      ],
      "source": [
        "!pip install gradio"
      ]
    },
    {
      "cell_type": "code",
      "execution_count": null,
      "metadata": {
        "colab": {
          "base_uri": "https://localhost:8080/",
          "height": 612
        },
        "id": "B18FsO5Qs_aW",
        "outputId": "5f6b72c7-c4f6-4134-8e7e-de1ef21d820a"
      },
      "outputs": [
        {
          "output_type": "stream",
          "name": "stdout",
          "text": [
            "Colab notebook detected. This cell will run indefinitely so that you can see errors and logs. To turn off, set debug=False in launch().\n",
            "Running on public URL: https://5efc006d6b9a693757.gradio.live\n",
            "\n",
            "This share link expires in 72 hours. For free permanent hosting and GPU upgrades, run `gradio deploy` from Terminal to deploy to Spaces (https://huggingface.co/spaces)\n"
          ]
        },
        {
          "output_type": "display_data",
          "data": {
            "text/plain": [
              "<IPython.core.display.HTML object>"
            ],
            "text/html": [
              "<div><iframe src=\"https://5efc006d6b9a693757.gradio.live\" width=\"100%\" height=\"500\" allow=\"autoplay; camera; microphone; clipboard-read; clipboard-write;\" frameborder=\"0\" allowfullscreen></iframe></div>"
            ]
          },
          "metadata": {}
        }
      ],
      "source": [
        "def chat(input_message, chat_history=[]):\n",
        "  if not chat_history:\n",
        "        # If empty, this is the first user interaction, add an instructional message\n",
        "        chat_history.append((\"\", \"你好！我是AI助手，可以提供加密貨幣的價格, 並根據貪婪指數分析。請問你想要查詢哪種加密貨幣的當前價格？\"))\n",
        "\n",
        "  openai_messages = [\n",
        "  {\"role\": \"system\", \"content\": \"你是一個AI助手, 可以提供加密貨幣的價格, 並根據貪婪指數分析\" }\n",
        "]\n",
        "\n",
        "  # 把 gradio 紀錄的 chat_history 轉成 OpenAI 的 messages 格式\n",
        "  for human, assistant in chat_history:\n",
        "      openai_messages.append({\"role\": \"user\", \"content\": human })\n",
        "      openai_messages.append({\"role\": \"assistant\", \"content\": assistant})\n",
        "\n",
        "  openai_messages.append({\"role\": \"user\", \"content\": input_message})\n",
        "\n",
        "\n",
        "  fear_index_analysis = result\n",
        "\n",
        "  coin_full_name = map_coin_prompt(input_message)\n",
        "  # filtered_list = filter_cryptos_by_first_and_second_letter(crypto_list, coin_full_name[0].lower(), coin_full_name[1].lower())\n",
        "  coin_id = map_coin_to_id_prompt(coin_full_name)\n",
        "\n",
        "  price_content = str(get_crypto_price(coin_id))\n",
        "  return f\"目前該幣價格為 {price_content} USD。 \" + fear_index_analysis\n",
        "\n",
        "import gradio as gr\n",
        "gr.close_all()\n",
        "\n",
        "demo2 = gr.ChatInterface(fn=chat)\n",
        "demo2.launch(share=True, debug=True)"
      ]
    },
    {
      "cell_type": "code",
      "execution_count": 57,
      "metadata": {
        "id": "6Y6IA5WCD3TO"
      },
      "outputs": [],
      "source": []
    }
  ],
  "metadata": {
    "colab": {
      "provenance": [],
      "mount_file_id": "1YOma_fcPtGag9MplvtUhgo5LlgdqJtCJ",
      "authorship_tag": "ABX9TyOdho6oyaHcDDPw93hrhBaV"
    },
    "kernelspec": {
      "display_name": "Python 3",
      "name": "python3"
    },
    "language_info": {
      "name": "python"
    }
  },
  "nbformat": 4,
  "nbformat_minor": 0
}